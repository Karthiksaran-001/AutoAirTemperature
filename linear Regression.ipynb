{
 "cells": [
  {
   "cell_type": "markdown",
   "id": "de7c6676",
   "metadata": {},
   "source": [
    "# Linear Regression"
   ]
  },
  {
   "cell_type": "code",
   "execution_count": 6,
   "id": "99b46f8d",
   "metadata": {},
   "outputs": [],
   "source": [
    "import pandas as pd\n",
    "import numpy as np\n",
    "import matplotlib.pyplot as plt\n",
    "%matplotlib inline\n",
    "import seaborn as sns\n",
    "\n",
    "from pandas_profiling import ProfileReport"
   ]
  },
  {
   "cell_type": "markdown",
   "id": "ca616138",
   "metadata": {},
   "source": [
    "## In This Model we just handle the Numerical Data "
   ]
  },
  {
   "cell_type": "code",
   "execution_count": 7,
   "id": "648b1da4",
   "metadata": {},
   "outputs": [
    {
     "data": {
      "text/html": [
       "<div>\n",
       "<style scoped>\n",
       "    .dataframe tbody tr th:only-of-type {\n",
       "        vertical-align: middle;\n",
       "    }\n",
       "\n",
       "    .dataframe tbody tr th {\n",
       "        vertical-align: top;\n",
       "    }\n",
       "\n",
       "    .dataframe thead th {\n",
       "        text-align: right;\n",
       "    }\n",
       "</style>\n",
       "<table border=\"1\" class=\"dataframe\">\n",
       "  <thead>\n",
       "    <tr style=\"text-align: right;\">\n",
       "      <th></th>\n",
       "      <th>UDI</th>\n",
       "      <th>Product ID</th>\n",
       "      <th>Type</th>\n",
       "      <th>Air temperature [K]</th>\n",
       "      <th>Process temperature [K]</th>\n",
       "      <th>Rotational speed [rpm]</th>\n",
       "      <th>Torque [Nm]</th>\n",
       "      <th>Tool wear [min]</th>\n",
       "      <th>Machine failure</th>\n",
       "      <th>TWF</th>\n",
       "      <th>HDF</th>\n",
       "      <th>PWF</th>\n",
       "      <th>OSF</th>\n",
       "      <th>RNF</th>\n",
       "    </tr>\n",
       "  </thead>\n",
       "  <tbody>\n",
       "    <tr>\n",
       "      <th>0</th>\n",
       "      <td>1</td>\n",
       "      <td>M14860</td>\n",
       "      <td>M</td>\n",
       "      <td>298.1</td>\n",
       "      <td>308.6</td>\n",
       "      <td>1551</td>\n",
       "      <td>42.8</td>\n",
       "      <td>0</td>\n",
       "      <td>0</td>\n",
       "      <td>0</td>\n",
       "      <td>0</td>\n",
       "      <td>0</td>\n",
       "      <td>0</td>\n",
       "      <td>0</td>\n",
       "    </tr>\n",
       "    <tr>\n",
       "      <th>1</th>\n",
       "      <td>2</td>\n",
       "      <td>L47181</td>\n",
       "      <td>L</td>\n",
       "      <td>298.2</td>\n",
       "      <td>308.7</td>\n",
       "      <td>1408</td>\n",
       "      <td>46.3</td>\n",
       "      <td>3</td>\n",
       "      <td>0</td>\n",
       "      <td>0</td>\n",
       "      <td>0</td>\n",
       "      <td>0</td>\n",
       "      <td>0</td>\n",
       "      <td>0</td>\n",
       "    </tr>\n",
       "    <tr>\n",
       "      <th>2</th>\n",
       "      <td>3</td>\n",
       "      <td>L47182</td>\n",
       "      <td>L</td>\n",
       "      <td>298.1</td>\n",
       "      <td>308.5</td>\n",
       "      <td>1498</td>\n",
       "      <td>49.4</td>\n",
       "      <td>5</td>\n",
       "      <td>0</td>\n",
       "      <td>0</td>\n",
       "      <td>0</td>\n",
       "      <td>0</td>\n",
       "      <td>0</td>\n",
       "      <td>0</td>\n",
       "    </tr>\n",
       "    <tr>\n",
       "      <th>3</th>\n",
       "      <td>4</td>\n",
       "      <td>L47183</td>\n",
       "      <td>L</td>\n",
       "      <td>298.2</td>\n",
       "      <td>308.6</td>\n",
       "      <td>1433</td>\n",
       "      <td>39.5</td>\n",
       "      <td>7</td>\n",
       "      <td>0</td>\n",
       "      <td>0</td>\n",
       "      <td>0</td>\n",
       "      <td>0</td>\n",
       "      <td>0</td>\n",
       "      <td>0</td>\n",
       "    </tr>\n",
       "    <tr>\n",
       "      <th>4</th>\n",
       "      <td>5</td>\n",
       "      <td>L47184</td>\n",
       "      <td>L</td>\n",
       "      <td>298.2</td>\n",
       "      <td>308.7</td>\n",
       "      <td>1408</td>\n",
       "      <td>40.0</td>\n",
       "      <td>9</td>\n",
       "      <td>0</td>\n",
       "      <td>0</td>\n",
       "      <td>0</td>\n",
       "      <td>0</td>\n",
       "      <td>0</td>\n",
       "      <td>0</td>\n",
       "    </tr>\n",
       "  </tbody>\n",
       "</table>\n",
       "</div>"
      ],
      "text/plain": [
       "   UDI Product ID Type  Air temperature [K]  Process temperature [K]  \\\n",
       "0    1     M14860    M                298.1                    308.6   \n",
       "1    2     L47181    L                298.2                    308.7   \n",
       "2    3     L47182    L                298.1                    308.5   \n",
       "3    4     L47183    L                298.2                    308.6   \n",
       "4    5     L47184    L                298.2                    308.7   \n",
       "\n",
       "   Rotational speed [rpm]  Torque [Nm]  Tool wear [min]  Machine failure  TWF  \\\n",
       "0                    1551         42.8                0                0    0   \n",
       "1                    1408         46.3                3                0    0   \n",
       "2                    1498         49.4                5                0    0   \n",
       "3                    1433         39.5                7                0    0   \n",
       "4                    1408         40.0                9                0    0   \n",
       "\n",
       "   HDF  PWF  OSF  RNF  \n",
       "0    0    0    0    0  \n",
       "1    0    0    0    0  \n",
       "2    0    0    0    0  \n",
       "3    0    0    0    0  \n",
       "4    0    0    0    0  "
      ]
     },
     "execution_count": 7,
     "metadata": {},
     "output_type": "execute_result"
    }
   ],
   "source": [
    "df = pd.read_csv('AI4I.csv')\n",
    "df.head()"
   ]
  },
  {
   "cell_type": "code",
   "execution_count": 4,
   "id": "ae0ef501",
   "metadata": {},
   "outputs": [],
   "source": [
    "x = df.iloc[: , 4:]\n",
    "y = df[\"Air temperature [K]\"]"
   ]
  },
  {
   "cell_type": "code",
   "execution_count": 5,
   "id": "0e93a214",
   "metadata": {},
   "outputs": [
    {
     "name": "stdout",
     "output_type": "stream",
     "text": [
      "   Process temperature [K]  Rotational speed [rpm]  Torque [Nm]  \\\n",
      "0                    308.6                    1551         42.8   \n",
      "1                    308.7                    1408         46.3   \n",
      "2                    308.5                    1498         49.4   \n",
      "3                    308.6                    1433         39.5   \n",
      "4                    308.7                    1408         40.0   \n",
      "\n",
      "   Tool wear [min]  Machine failure  TWF  HDF  PWF  OSF  RNF  \n",
      "0                0                0    0    0    0    0    0  \n",
      "1                3                0    0    0    0    0    0  \n",
      "2                5                0    0    0    0    0    0  \n",
      "3                7                0    0    0    0    0    0  \n",
      "4                9                0    0    0    0    0    0  \n",
      "0    298.1\n",
      "1    298.2\n",
      "2    298.1\n",
      "3    298.2\n",
      "4    298.2\n",
      "Name: Air temperature [K], dtype: float64\n"
     ]
    }
   ],
   "source": [
    "print(x.head())\n",
    "print(y[:5])"
   ]
  },
  {
   "cell_type": "code",
   "execution_count": 6,
   "id": "ea71a3ac",
   "metadata": {
    "scrolled": true
   },
   "outputs": [
    {
     "data": {
      "text/plain": [
       "(10000, 10)"
      ]
     },
     "execution_count": 6,
     "metadata": {},
     "output_type": "execute_result"
    }
   ],
   "source": [
    "x.shape"
   ]
  },
  {
   "cell_type": "markdown",
   "id": "1d55d6e3",
   "metadata": {},
   "source": [
    "## Now we Process our data"
   ]
  },
  {
   "cell_type": "code",
   "execution_count": 7,
   "id": "54802d77",
   "metadata": {},
   "outputs": [
    {
     "data": {
      "text/html": [
       "<div>\n",
       "<style scoped>\n",
       "    .dataframe tbody tr th:only-of-type {\n",
       "        vertical-align: middle;\n",
       "    }\n",
       "\n",
       "    .dataframe tbody tr th {\n",
       "        vertical-align: top;\n",
       "    }\n",
       "\n",
       "    .dataframe thead th {\n",
       "        text-align: right;\n",
       "    }\n",
       "</style>\n",
       "<table border=\"1\" class=\"dataframe\">\n",
       "  <thead>\n",
       "    <tr style=\"text-align: right;\">\n",
       "      <th></th>\n",
       "      <th>Process temperature [K]</th>\n",
       "      <th>Rotational speed [rpm]</th>\n",
       "      <th>Torque [Nm]</th>\n",
       "      <th>Tool wear [min]</th>\n",
       "      <th>Machine failure</th>\n",
       "      <th>TWF</th>\n",
       "      <th>HDF</th>\n",
       "      <th>PWF</th>\n",
       "      <th>OSF</th>\n",
       "      <th>RNF</th>\n",
       "    </tr>\n",
       "  </thead>\n",
       "  <tbody>\n",
       "    <tr>\n",
       "      <th>0</th>\n",
       "      <td>308.6</td>\n",
       "      <td>1551</td>\n",
       "      <td>42.8</td>\n",
       "      <td>0</td>\n",
       "      <td>0</td>\n",
       "      <td>0</td>\n",
       "      <td>0</td>\n",
       "      <td>0</td>\n",
       "      <td>0</td>\n",
       "      <td>0</td>\n",
       "    </tr>\n",
       "    <tr>\n",
       "      <th>1</th>\n",
       "      <td>308.7</td>\n",
       "      <td>1408</td>\n",
       "      <td>46.3</td>\n",
       "      <td>3</td>\n",
       "      <td>0</td>\n",
       "      <td>0</td>\n",
       "      <td>0</td>\n",
       "      <td>0</td>\n",
       "      <td>0</td>\n",
       "      <td>0</td>\n",
       "    </tr>\n",
       "    <tr>\n",
       "      <th>2</th>\n",
       "      <td>308.5</td>\n",
       "      <td>1498</td>\n",
       "      <td>49.4</td>\n",
       "      <td>5</td>\n",
       "      <td>0</td>\n",
       "      <td>0</td>\n",
       "      <td>0</td>\n",
       "      <td>0</td>\n",
       "      <td>0</td>\n",
       "      <td>0</td>\n",
       "    </tr>\n",
       "    <tr>\n",
       "      <th>3</th>\n",
       "      <td>308.6</td>\n",
       "      <td>1433</td>\n",
       "      <td>39.5</td>\n",
       "      <td>7</td>\n",
       "      <td>0</td>\n",
       "      <td>0</td>\n",
       "      <td>0</td>\n",
       "      <td>0</td>\n",
       "      <td>0</td>\n",
       "      <td>0</td>\n",
       "    </tr>\n",
       "    <tr>\n",
       "      <th>4</th>\n",
       "      <td>308.7</td>\n",
       "      <td>1408</td>\n",
       "      <td>40.0</td>\n",
       "      <td>9</td>\n",
       "      <td>0</td>\n",
       "      <td>0</td>\n",
       "      <td>0</td>\n",
       "      <td>0</td>\n",
       "      <td>0</td>\n",
       "      <td>0</td>\n",
       "    </tr>\n",
       "  </tbody>\n",
       "</table>\n",
       "</div>"
      ],
      "text/plain": [
       "   Process temperature [K]  Rotational speed [rpm]  Torque [Nm]  \\\n",
       "0                    308.6                    1551         42.8   \n",
       "1                    308.7                    1408         46.3   \n",
       "2                    308.5                    1498         49.4   \n",
       "3                    308.6                    1433         39.5   \n",
       "4                    308.7                    1408         40.0   \n",
       "\n",
       "   Tool wear [min]  Machine failure  TWF  HDF  PWF  OSF  RNF  \n",
       "0                0                0    0    0    0    0    0  \n",
       "1                3                0    0    0    0    0    0  \n",
       "2                5                0    0    0    0    0    0  \n",
       "3                7                0    0    0    0    0    0  \n",
       "4                9                0    0    0    0    0    0  "
      ]
     },
     "execution_count": 7,
     "metadata": {},
     "output_type": "execute_result"
    }
   ],
   "source": [
    "x.head()"
   ]
  },
  {
   "cell_type": "code",
   "execution_count": 8,
   "id": "0235d44a",
   "metadata": {},
   "outputs": [],
   "source": [
    "pf = ProfileReport(df)"
   ]
  },
  {
   "cell_type": "code",
   "execution_count": 9,
   "id": "cc1b17bd",
   "metadata": {
    "scrolled": false
   },
   "outputs": [
    {
     "data": {
      "application/vnd.jupyter.widget-view+json": {
       "model_id": "5fac4f86cfbb4baab3576d2d4d9955ad",
       "version_major": 2,
       "version_minor": 0
      },
      "text/plain": [
       "Summarize dataset:   0%|          | 0/27 [00:00<?, ?it/s]"
      ]
     },
     "metadata": {},
     "output_type": "display_data"
    },
    {
     "data": {
      "application/vnd.jupyter.widget-view+json": {
       "model_id": "965a9518e98944adb670f713a15d0d14",
       "version_major": 2,
       "version_minor": 0
      },
      "text/plain": [
       "Generate report structure:   0%|          | 0/1 [00:00<?, ?it/s]"
      ]
     },
     "metadata": {},
     "output_type": "display_data"
    },
    {
     "data": {
      "application/vnd.jupyter.widget-view+json": {
       "model_id": "",
       "version_major": 2,
       "version_minor": 0
      },
      "text/plain": [
       "Render widgets:   0%|          | 0/1 [00:00<?, ?it/s]"
      ]
     },
     "metadata": {},
     "output_type": "display_data"
    },
    {
     "data": {
      "application/vnd.jupyter.widget-view+json": {
       "model_id": "346cd30d8d1542d19d3ecadf364b4496",
       "version_major": 2,
       "version_minor": 0
      },
      "text/plain": [
       "VBox(children=(Tab(children=(Tab(children=(GridBox(children=(VBox(children=(GridspecLayout(children=(HTML(valu…"
      ]
     },
     "metadata": {},
     "output_type": "display_data"
    }
   ],
   "source": [
    "pf.to_widgets()"
   ]
  },
  {
   "cell_type": "markdown",
   "id": "39385155",
   "metadata": {},
   "source": [
    "## Save our Visualization"
   ]
  },
  {
   "cell_type": "code",
   "execution_count": 10,
   "id": "dcd8924f",
   "metadata": {},
   "outputs": [
    {
     "data": {
      "application/vnd.jupyter.widget-view+json": {
       "model_id": "f265e4407003407d8e7b693030fea5d5",
       "version_major": 2,
       "version_minor": 0
      },
      "text/plain": [
       "Render HTML:   0%|          | 0/1 [00:00<?, ?it/s]"
      ]
     },
     "metadata": {},
     "output_type": "display_data"
    },
    {
     "data": {
      "application/vnd.jupyter.widget-view+json": {
       "model_id": "066295c65d024e619a76e731ca1415ba",
       "version_major": 2,
       "version_minor": 0
      },
      "text/plain": [
       "Export report to file:   0%|          | 0/1 [00:00<?, ?it/s]"
      ]
     },
     "metadata": {},
     "output_type": "display_data"
    }
   ],
   "source": [
    "pf.to_file(\"report.html\")"
   ]
  },
  {
   "cell_type": "markdown",
   "id": "47042325",
   "metadata": {},
   "source": [
    "# Now we Process Training data"
   ]
  },
  {
   "cell_type": "markdown",
   "id": "04b92739",
   "metadata": {},
   "source": [
    "## So there is No Null Values"
   ]
  },
  {
   "cell_type": "markdown",
   "id": "557fa8cc",
   "metadata": {},
   "source": [
    "## Now we Scale the Value"
   ]
  },
  {
   "cell_type": "code",
   "execution_count": 10,
   "id": "34bd4585",
   "metadata": {},
   "outputs": [],
   "source": [
    "from sklearn.preprocessing import StandardScaler\n",
    "scalar = StandardScaler()"
   ]
  },
  {
   "cell_type": "code",
   "execution_count": 11,
   "id": "c23666fd",
   "metadata": {},
   "outputs": [
    {
     "data": {
      "text/plain": [
       "array([[-0.94735989,  0.06818514,  0.28219976, ..., -0.09793424,\n",
       "        -0.09948362, -0.04363046],\n",
       "       [-0.879959  , -0.72947151,  0.63330802, ..., -0.09793424,\n",
       "        -0.09948362, -0.04363046],\n",
       "       [-1.01476077, -0.22744984,  0.94428963, ..., -0.09793424,\n",
       "        -0.09948362, -0.04363046],\n",
       "       ...,\n",
       "       [-0.94735989,  0.59251888, -0.66077672, ..., -0.09793424,\n",
       "        -0.09948362, -0.04363046],\n",
       "       [-0.879959  , -0.72947151,  0.85400464, ..., -0.09793424,\n",
       "        -0.09948362, -0.04363046],\n",
       "       [-0.879959  , -0.2162938 ,  0.02137647, ..., -0.09793424,\n",
       "        -0.09948362, -0.04363046]])"
      ]
     },
     "execution_count": 11,
     "metadata": {},
     "output_type": "execute_result"
    }
   ],
   "source": [
    "train_scale = scalar.fit_transform(x)\n",
    "train_scale"
   ]
  },
  {
   "cell_type": "code",
   "execution_count": 12,
   "id": "0d85e8a2",
   "metadata": {
    "scrolled": false
   },
   "outputs": [
    {
     "data": {
      "text/html": [
       "<div>\n",
       "<style scoped>\n",
       "    .dataframe tbody tr th:only-of-type {\n",
       "        vertical-align: middle;\n",
       "    }\n",
       "\n",
       "    .dataframe tbody tr th {\n",
       "        vertical-align: top;\n",
       "    }\n",
       "\n",
       "    .dataframe thead th {\n",
       "        text-align: right;\n",
       "    }\n",
       "</style>\n",
       "<table border=\"1\" class=\"dataframe\">\n",
       "  <thead>\n",
       "    <tr style=\"text-align: right;\">\n",
       "      <th></th>\n",
       "      <th>Process temperature [K]</th>\n",
       "      <th>Rotational speed [rpm]</th>\n",
       "      <th>Torque [Nm]</th>\n",
       "      <th>Tool wear [min]</th>\n",
       "      <th>Machine failure</th>\n",
       "      <th>TWF</th>\n",
       "      <th>HDF</th>\n",
       "      <th>PWF</th>\n",
       "      <th>OSF</th>\n",
       "      <th>RNF</th>\n",
       "    </tr>\n",
       "  </thead>\n",
       "  <tbody>\n",
       "    <tr>\n",
       "      <th>0</th>\n",
       "      <td>-0.947360</td>\n",
       "      <td>0.068185</td>\n",
       "      <td>0.282200</td>\n",
       "      <td>-1.695984</td>\n",
       "      <td>-0.187322</td>\n",
       "      <td>-0.06798</td>\n",
       "      <td>-0.10786</td>\n",
       "      <td>-0.097934</td>\n",
       "      <td>-0.099484</td>\n",
       "      <td>-0.04363</td>\n",
       "    </tr>\n",
       "    <tr>\n",
       "      <th>1</th>\n",
       "      <td>-0.879959</td>\n",
       "      <td>-0.729472</td>\n",
       "      <td>0.633308</td>\n",
       "      <td>-1.648852</td>\n",
       "      <td>-0.187322</td>\n",
       "      <td>-0.06798</td>\n",
       "      <td>-0.10786</td>\n",
       "      <td>-0.097934</td>\n",
       "      <td>-0.099484</td>\n",
       "      <td>-0.04363</td>\n",
       "    </tr>\n",
       "    <tr>\n",
       "      <th>2</th>\n",
       "      <td>-1.014761</td>\n",
       "      <td>-0.227450</td>\n",
       "      <td>0.944290</td>\n",
       "      <td>-1.617430</td>\n",
       "      <td>-0.187322</td>\n",
       "      <td>-0.06798</td>\n",
       "      <td>-0.10786</td>\n",
       "      <td>-0.097934</td>\n",
       "      <td>-0.099484</td>\n",
       "      <td>-0.04363</td>\n",
       "    </tr>\n",
       "    <tr>\n",
       "      <th>3</th>\n",
       "      <td>-0.947360</td>\n",
       "      <td>-0.590021</td>\n",
       "      <td>-0.048845</td>\n",
       "      <td>-1.586009</td>\n",
       "      <td>-0.187322</td>\n",
       "      <td>-0.06798</td>\n",
       "      <td>-0.10786</td>\n",
       "      <td>-0.097934</td>\n",
       "      <td>-0.099484</td>\n",
       "      <td>-0.04363</td>\n",
       "    </tr>\n",
       "    <tr>\n",
       "      <th>4</th>\n",
       "      <td>-0.879959</td>\n",
       "      <td>-0.729472</td>\n",
       "      <td>0.001313</td>\n",
       "      <td>-1.554588</td>\n",
       "      <td>-0.187322</td>\n",
       "      <td>-0.06798</td>\n",
       "      <td>-0.10786</td>\n",
       "      <td>-0.097934</td>\n",
       "      <td>-0.099484</td>\n",
       "      <td>-0.04363</td>\n",
       "    </tr>\n",
       "  </tbody>\n",
       "</table>\n",
       "</div>"
      ],
      "text/plain": [
       "   Process temperature [K]  Rotational speed [rpm]  Torque [Nm]  \\\n",
       "0                -0.947360                0.068185     0.282200   \n",
       "1                -0.879959               -0.729472     0.633308   \n",
       "2                -1.014761               -0.227450     0.944290   \n",
       "3                -0.947360               -0.590021    -0.048845   \n",
       "4                -0.879959               -0.729472     0.001313   \n",
       "\n",
       "   Tool wear [min]  Machine failure      TWF      HDF       PWF       OSF  \\\n",
       "0        -1.695984        -0.187322 -0.06798 -0.10786 -0.097934 -0.099484   \n",
       "1        -1.648852        -0.187322 -0.06798 -0.10786 -0.097934 -0.099484   \n",
       "2        -1.617430        -0.187322 -0.06798 -0.10786 -0.097934 -0.099484   \n",
       "3        -1.586009        -0.187322 -0.06798 -0.10786 -0.097934 -0.099484   \n",
       "4        -1.554588        -0.187322 -0.06798 -0.10786 -0.097934 -0.099484   \n",
       "\n",
       "       RNF  \n",
       "0 -0.04363  \n",
       "1 -0.04363  \n",
       "2 -0.04363  \n",
       "3 -0.04363  \n",
       "4 -0.04363  "
      ]
     },
     "execution_count": 12,
     "metadata": {},
     "output_type": "execute_result"
    }
   ],
   "source": [
    "x_scale = pd.DataFrame(train_scale , columns= x.columns)\n",
    "x_scale.head()"
   ]
  },
  {
   "cell_type": "markdown",
   "id": "577f2af0",
   "metadata": {},
   "source": [
    "## Correlation"
   ]
  },
  {
   "cell_type": "code",
   "execution_count": 13,
   "id": "1896ec77",
   "metadata": {},
   "outputs": [
    {
     "data": {
      "text/plain": [
       "<AxesSubplot:>"
      ]
     },
     "execution_count": 13,
     "metadata": {},
     "output_type": "execute_result"
    },
    {
     "data": {
      "image/png": "[encoded data removed]",
      "text/plain": [
       "<Figure size 720x720 with 2 Axes>"
      ]
     },
     "metadata": {
      "needs_background": "light"
     },
     "output_type": "display_data"
    }
   ],
   "source": [
    "## See the Correlation \n",
    "plt.figure(figsize=(10,10))\n",
    "sns.heatmap(x_scale.corr(), cmap=\"YlGnBu\", annot=True)"
   ]
  },
  {
   "cell_type": "markdown",
   "id": "9fda70ff",
   "metadata": {},
   "source": [
    "Here we see some of them are correlated but we also check this using VIF"
   ]
  },
  {
   "cell_type": "code",
   "execution_count": 14,
   "id": "350f3c2b",
   "metadata": {},
   "outputs": [],
   "source": [
    "from statsmodels.stats.outliers_influence import variance_inflation_factor"
   ]
  },
  {
   "cell_type": "code",
   "execution_count": 15,
   "id": "0c4bdc7e",
   "metadata": {},
   "outputs": [
    {
     "data": {
      "text/plain": [
       "array([[-0.94735989,  0.06818514,  0.28219976, -1.69598374, -0.18732201,\n",
       "        -0.06797983, -0.10786004, -0.09793424, -0.09948362, -0.04363046],\n",
       "       [-0.879959  , -0.72947151,  0.63330802, -1.6488517 , -0.18732201,\n",
       "        -0.06797983, -0.10786004, -0.09793424, -0.09948362, -0.04363046]])"
      ]
     },
     "execution_count": 15,
     "metadata": {},
     "output_type": "execute_result"
    }
   ],
   "source": [
    "train_scale[:2]"
   ]
  },
  {
   "cell_type": "code",
   "execution_count": 16,
   "id": "19b4150f",
   "metadata": {},
   "outputs": [
    {
     "data": {
      "text/plain": [
       "(10000, 10)"
      ]
     },
     "execution_count": 16,
     "metadata": {},
     "output_type": "execute_result"
    }
   ],
   "source": [
    "## We always Gives our scaling array not our dataframe\n",
    "train_scale.shape"
   ]
  },
  {
   "cell_type": "code",
   "execution_count": 17,
   "id": "a2af109f",
   "metadata": {
    "scrolled": true
   },
   "outputs": [
    {
     "data": {
      "text/html": [
       "<div>\n",
       "<style scoped>\n",
       "    .dataframe tbody tr th:only-of-type {\n",
       "        vertical-align: middle;\n",
       "    }\n",
       "\n",
       "    .dataframe tbody tr th {\n",
       "        vertical-align: top;\n",
       "    }\n",
       "\n",
       "    .dataframe thead th {\n",
       "        text-align: right;\n",
       "    }\n",
       "</style>\n",
       "<table border=\"1\" class=\"dataframe\">\n",
       "  <thead>\n",
       "    <tr style=\"text-align: right;\">\n",
       "      <th></th>\n",
       "      <th>VIF Score</th>\n",
       "      <th>Feature Names</th>\n",
       "    </tr>\n",
       "  </thead>\n",
       "  <tbody>\n",
       "    <tr>\n",
       "      <th>0</th>\n",
       "      <td>1.004799</td>\n",
       "      <td>Process temperature [K]</td>\n",
       "    </tr>\n",
       "    <tr>\n",
       "      <th>1</th>\n",
       "      <td>5.171592</td>\n",
       "      <td>Rotational speed [rpm]</td>\n",
       "    </tr>\n",
       "    <tr>\n",
       "      <th>2</th>\n",
       "      <td>5.236156</td>\n",
       "      <td>Torque [Nm]</td>\n",
       "    </tr>\n",
       "    <tr>\n",
       "      <th>3</th>\n",
       "      <td>1.039958</td>\n",
       "      <td>Tool wear [min]</td>\n",
       "    </tr>\n",
       "    <tr>\n",
       "      <th>4</th>\n",
       "      <td>11.829612</td>\n",
       "      <td>Machine failure</td>\n",
       "    </tr>\n",
       "    <tr>\n",
       "      <th>5</th>\n",
       "      <td>2.433058</td>\n",
       "      <td>TWF</td>\n",
       "    </tr>\n",
       "    <tr>\n",
       "      <th>6</th>\n",
       "      <td>4.597022</td>\n",
       "      <td>HDF</td>\n",
       "    </tr>\n",
       "    <tr>\n",
       "      <th>7</th>\n",
       "      <td>3.623946</td>\n",
       "      <td>PWF</td>\n",
       "    </tr>\n",
       "    <tr>\n",
       "      <th>8</th>\n",
       "      <td>3.347600</td>\n",
       "      <td>OSF</td>\n",
       "    </tr>\n",
       "    <tr>\n",
       "      <th>9</th>\n",
       "      <td>1.002015</td>\n",
       "      <td>RNF</td>\n",
       "    </tr>\n",
       "  </tbody>\n",
       "</table>\n",
       "</div>"
      ],
      "text/plain": [
       "   VIF Score            Feature Names\n",
       "0   1.004799  Process temperature [K]\n",
       "1   5.171592   Rotational speed [rpm]\n",
       "2   5.236156              Torque [Nm]\n",
       "3   1.039958          Tool wear [min]\n",
       "4  11.829612          Machine failure\n",
       "5   2.433058                      TWF\n",
       "6   4.597022                      HDF\n",
       "7   3.623946                      PWF\n",
       "8   3.347600                      OSF\n",
       "9   1.002015                      RNF"
      ]
     },
     "execution_count": 17,
     "metadata": {},
     "output_type": "execute_result"
    }
   ],
   "source": [
    "vif_df = pd.DataFrame()\n",
    "vif_df[\"VIF Score\"] = [variance_inflation_factor(train_scale,i)for i in range(train_scale.shape[1])]\n",
    "vif_df[\"Feature Names\"] =x.columns\n",
    "vif_df ## everything is lesser than 10 so we dont drop any column "
   ]
  },
  {
   "cell_type": "markdown",
   "id": "f4598a22",
   "metadata": {},
   "source": [
    "Now we remove the Machine Failure in X_train and test"
   ]
  },
  {
   "cell_type": "markdown",
   "id": "6f790d26",
   "metadata": {},
   "source": [
    "## Drop the MultiCollinearity Column"
   ]
  },
  {
   "cell_type": "code",
   "execution_count": 18,
   "id": "853d34d7",
   "metadata": {},
   "outputs": [],
   "source": [
    "x_scale.drop([\"Machine failure\"] , axis = 1 , inplace=True)"
   ]
  },
  {
   "cell_type": "code",
   "execution_count": 20,
   "id": "b6cf994e",
   "metadata": {
    "scrolled": true
   },
   "outputs": [
    {
     "data": {
      "text/html": [
       "<div>\n",
       "<style scoped>\n",
       "    .dataframe tbody tr th:only-of-type {\n",
       "        vertical-align: middle;\n",
       "    }\n",
       "\n",
       "    .dataframe tbody tr th {\n",
       "        vertical-align: top;\n",
       "    }\n",
       "\n",
       "    .dataframe thead th {\n",
       "        text-align: right;\n",
       "    }\n",
       "</style>\n",
       "<table border=\"1\" class=\"dataframe\">\n",
       "  <thead>\n",
       "    <tr style=\"text-align: right;\">\n",
       "      <th></th>\n",
       "      <th>Process temperature [K]</th>\n",
       "      <th>Rotational speed [rpm]</th>\n",
       "      <th>Torque [Nm]</th>\n",
       "      <th>Tool wear [min]</th>\n",
       "      <th>TWF</th>\n",
       "      <th>HDF</th>\n",
       "      <th>PWF</th>\n",
       "      <th>OSF</th>\n",
       "      <th>RNF</th>\n",
       "    </tr>\n",
       "  </thead>\n",
       "  <tbody>\n",
       "    <tr>\n",
       "      <th>0</th>\n",
       "      <td>-0.947360</td>\n",
       "      <td>0.068185</td>\n",
       "      <td>0.282200</td>\n",
       "      <td>-1.695984</td>\n",
       "      <td>-0.06798</td>\n",
       "      <td>-0.10786</td>\n",
       "      <td>-0.097934</td>\n",
       "      <td>-0.099484</td>\n",
       "      <td>-0.04363</td>\n",
       "    </tr>\n",
       "    <tr>\n",
       "      <th>1</th>\n",
       "      <td>-0.879959</td>\n",
       "      <td>-0.729472</td>\n",
       "      <td>0.633308</td>\n",
       "      <td>-1.648852</td>\n",
       "      <td>-0.06798</td>\n",
       "      <td>-0.10786</td>\n",
       "      <td>-0.097934</td>\n",
       "      <td>-0.099484</td>\n",
       "      <td>-0.04363</td>\n",
       "    </tr>\n",
       "    <tr>\n",
       "      <th>2</th>\n",
       "      <td>-1.014761</td>\n",
       "      <td>-0.227450</td>\n",
       "      <td>0.944290</td>\n",
       "      <td>-1.617430</td>\n",
       "      <td>-0.06798</td>\n",
       "      <td>-0.10786</td>\n",
       "      <td>-0.097934</td>\n",
       "      <td>-0.099484</td>\n",
       "      <td>-0.04363</td>\n",
       "    </tr>\n",
       "    <tr>\n",
       "      <th>3</th>\n",
       "      <td>-0.947360</td>\n",
       "      <td>-0.590021</td>\n",
       "      <td>-0.048845</td>\n",
       "      <td>-1.586009</td>\n",
       "      <td>-0.06798</td>\n",
       "      <td>-0.10786</td>\n",
       "      <td>-0.097934</td>\n",
       "      <td>-0.099484</td>\n",
       "      <td>-0.04363</td>\n",
       "    </tr>\n",
       "    <tr>\n",
       "      <th>4</th>\n",
       "      <td>-0.879959</td>\n",
       "      <td>-0.729472</td>\n",
       "      <td>0.001313</td>\n",
       "      <td>-1.554588</td>\n",
       "      <td>-0.06798</td>\n",
       "      <td>-0.10786</td>\n",
       "      <td>-0.097934</td>\n",
       "      <td>-0.099484</td>\n",
       "      <td>-0.04363</td>\n",
       "    </tr>\n",
       "  </tbody>\n",
       "</table>\n",
       "</div>"
      ],
      "text/plain": [
       "   Process temperature [K]  Rotational speed [rpm]  Torque [Nm]  \\\n",
       "0                -0.947360                0.068185     0.282200   \n",
       "1                -0.879959               -0.729472     0.633308   \n",
       "2                -1.014761               -0.227450     0.944290   \n",
       "3                -0.947360               -0.590021    -0.048845   \n",
       "4                -0.879959               -0.729472     0.001313   \n",
       "\n",
       "   Tool wear [min]      TWF      HDF       PWF       OSF      RNF  \n",
       "0        -1.695984 -0.06798 -0.10786 -0.097934 -0.099484 -0.04363  \n",
       "1        -1.648852 -0.06798 -0.10786 -0.097934 -0.099484 -0.04363  \n",
       "2        -1.617430 -0.06798 -0.10786 -0.097934 -0.099484 -0.04363  \n",
       "3        -1.586009 -0.06798 -0.10786 -0.097934 -0.099484 -0.04363  \n",
       "4        -1.554588 -0.06798 -0.10786 -0.097934 -0.099484 -0.04363  "
      ]
     },
     "execution_count": 20,
     "metadata": {},
     "output_type": "execute_result"
    }
   ],
   "source": [
    "x_scale.head()"
   ]
  },
  {
   "cell_type": "code",
   "execution_count": 35,
   "id": "fc9b30b3",
   "metadata": {},
   "outputs": [
    {
     "data": {
      "text/html": [
       "<div>\n",
       "<style scoped>\n",
       "    .dataframe tbody tr th:only-of-type {\n",
       "        vertical-align: middle;\n",
       "    }\n",
       "\n",
       "    .dataframe tbody tr th {\n",
       "        vertical-align: top;\n",
       "    }\n",
       "\n",
       "    .dataframe thead th {\n",
       "        text-align: right;\n",
       "    }\n",
       "</style>\n",
       "<table border=\"1\" class=\"dataframe\">\n",
       "  <thead>\n",
       "    <tr style=\"text-align: right;\">\n",
       "      <th></th>\n",
       "      <th>Process temperature [K]</th>\n",
       "      <th>Rotational speed [rpm]</th>\n",
       "      <th>Torque [Nm]</th>\n",
       "      <th>Tool wear [min]</th>\n",
       "      <th>Machine failure</th>\n",
       "      <th>TWF</th>\n",
       "      <th>HDF</th>\n",
       "      <th>PWF</th>\n",
       "      <th>OSF</th>\n",
       "      <th>RNF</th>\n",
       "    </tr>\n",
       "  </thead>\n",
       "  <tbody>\n",
       "    <tr>\n",
       "      <th>0</th>\n",
       "      <td>308.6</td>\n",
       "      <td>1551</td>\n",
       "      <td>42.8</td>\n",
       "      <td>0</td>\n",
       "      <td>0</td>\n",
       "      <td>0</td>\n",
       "      <td>0</td>\n",
       "      <td>0</td>\n",
       "      <td>0</td>\n",
       "      <td>0</td>\n",
       "    </tr>\n",
       "    <tr>\n",
       "      <th>1</th>\n",
       "      <td>308.7</td>\n",
       "      <td>1408</td>\n",
       "      <td>46.3</td>\n",
       "      <td>3</td>\n",
       "      <td>0</td>\n",
       "      <td>0</td>\n",
       "      <td>0</td>\n",
       "      <td>0</td>\n",
       "      <td>0</td>\n",
       "      <td>0</td>\n",
       "    </tr>\n",
       "    <tr>\n",
       "      <th>2</th>\n",
       "      <td>308.5</td>\n",
       "      <td>1498</td>\n",
       "      <td>49.4</td>\n",
       "      <td>5</td>\n",
       "      <td>0</td>\n",
       "      <td>0</td>\n",
       "      <td>0</td>\n",
       "      <td>0</td>\n",
       "      <td>0</td>\n",
       "      <td>0</td>\n",
       "    </tr>\n",
       "    <tr>\n",
       "      <th>3</th>\n",
       "      <td>308.6</td>\n",
       "      <td>1433</td>\n",
       "      <td>39.5</td>\n",
       "      <td>7</td>\n",
       "      <td>0</td>\n",
       "      <td>0</td>\n",
       "      <td>0</td>\n",
       "      <td>0</td>\n",
       "      <td>0</td>\n",
       "      <td>0</td>\n",
       "    </tr>\n",
       "    <tr>\n",
       "      <th>4</th>\n",
       "      <td>308.7</td>\n",
       "      <td>1408</td>\n",
       "      <td>40.0</td>\n",
       "      <td>9</td>\n",
       "      <td>0</td>\n",
       "      <td>0</td>\n",
       "      <td>0</td>\n",
       "      <td>0</td>\n",
       "      <td>0</td>\n",
       "      <td>0</td>\n",
       "    </tr>\n",
       "  </tbody>\n",
       "</table>\n",
       "</div>"
      ],
      "text/plain": [
       "   Process temperature [K]  Rotational speed [rpm]  Torque [Nm]  \\\n",
       "0                    308.6                    1551         42.8   \n",
       "1                    308.7                    1408         46.3   \n",
       "2                    308.5                    1498         49.4   \n",
       "3                    308.6                    1433         39.5   \n",
       "4                    308.7                    1408         40.0   \n",
       "\n",
       "   Tool wear [min]  Machine failure  TWF  HDF  PWF  OSF  RNF  \n",
       "0                0                0    0    0    0    0    0  \n",
       "1                3                0    0    0    0    0    0  \n",
       "2                5                0    0    0    0    0    0  \n",
       "3                7                0    0    0    0    0    0  \n",
       "4                9                0    0    0    0    0    0  "
      ]
     },
     "execution_count": 35,
     "metadata": {},
     "output_type": "execute_result"
    }
   ],
   "source": [
    "X = x.copy()\n",
    "X.head()"
   ]
  },
  {
   "cell_type": "markdown",
   "id": "1d644156",
   "metadata": {},
   "source": [
    "## Save our Scalar Model"
   ]
  },
  {
   "cell_type": "code",
   "execution_count": 36,
   "id": "3f0fa7be",
   "metadata": {},
   "outputs": [],
   "source": [
    "X.drop([\"Machine failure\"], axis=1 , inplace=True)"
   ]
  },
  {
   "cell_type": "code",
   "execution_count": 39,
   "id": "11ef569a",
   "metadata": {},
   "outputs": [
    {
     "data": {
      "text/html": [
       "<div>\n",
       "<style scoped>\n",
       "    .dataframe tbody tr th:only-of-type {\n",
       "        vertical-align: middle;\n",
       "    }\n",
       "\n",
       "    .dataframe tbody tr th {\n",
       "        vertical-align: top;\n",
       "    }\n",
       "\n",
       "    .dataframe thead th {\n",
       "        text-align: right;\n",
       "    }\n",
       "</style>\n",
       "<table border=\"1\" class=\"dataframe\">\n",
       "  <thead>\n",
       "    <tr style=\"text-align: right;\">\n",
       "      <th></th>\n",
       "      <th>Process temperature [K]</th>\n",
       "      <th>Rotational speed [rpm]</th>\n",
       "      <th>Torque [Nm]</th>\n",
       "      <th>Tool wear [min]</th>\n",
       "      <th>TWF</th>\n",
       "      <th>HDF</th>\n",
       "      <th>PWF</th>\n",
       "      <th>OSF</th>\n",
       "      <th>RNF</th>\n",
       "    </tr>\n",
       "  </thead>\n",
       "  <tbody>\n",
       "    <tr>\n",
       "      <th>0</th>\n",
       "      <td>308.6</td>\n",
       "      <td>1551</td>\n",
       "      <td>42.8</td>\n",
       "      <td>0</td>\n",
       "      <td>0</td>\n",
       "      <td>0</td>\n",
       "      <td>0</td>\n",
       "      <td>0</td>\n",
       "      <td>0</td>\n",
       "    </tr>\n",
       "    <tr>\n",
       "      <th>1</th>\n",
       "      <td>308.7</td>\n",
       "      <td>1408</td>\n",
       "      <td>46.3</td>\n",
       "      <td>3</td>\n",
       "      <td>0</td>\n",
       "      <td>0</td>\n",
       "      <td>0</td>\n",
       "      <td>0</td>\n",
       "      <td>0</td>\n",
       "    </tr>\n",
       "    <tr>\n",
       "      <th>2</th>\n",
       "      <td>308.5</td>\n",
       "      <td>1498</td>\n",
       "      <td>49.4</td>\n",
       "      <td>5</td>\n",
       "      <td>0</td>\n",
       "      <td>0</td>\n",
       "      <td>0</td>\n",
       "      <td>0</td>\n",
       "      <td>0</td>\n",
       "    </tr>\n",
       "    <tr>\n",
       "      <th>3</th>\n",
       "      <td>308.6</td>\n",
       "      <td>1433</td>\n",
       "      <td>39.5</td>\n",
       "      <td>7</td>\n",
       "      <td>0</td>\n",
       "      <td>0</td>\n",
       "      <td>0</td>\n",
       "      <td>0</td>\n",
       "      <td>0</td>\n",
       "    </tr>\n",
       "    <tr>\n",
       "      <th>4</th>\n",
       "      <td>308.7</td>\n",
       "      <td>1408</td>\n",
       "      <td>40.0</td>\n",
       "      <td>9</td>\n",
       "      <td>0</td>\n",
       "      <td>0</td>\n",
       "      <td>0</td>\n",
       "      <td>0</td>\n",
       "      <td>0</td>\n",
       "    </tr>\n",
       "  </tbody>\n",
       "</table>\n",
       "</div>"
      ],
      "text/plain": [
       "   Process temperature [K]  Rotational speed [rpm]  Torque [Nm]  \\\n",
       "0                    308.6                    1551         42.8   \n",
       "1                    308.7                    1408         46.3   \n",
       "2                    308.5                    1498         49.4   \n",
       "3                    308.6                    1433         39.5   \n",
       "4                    308.7                    1408         40.0   \n",
       "\n",
       "   Tool wear [min]  TWF  HDF  PWF  OSF  RNF  \n",
       "0                0    0    0    0    0    0  \n",
       "1                3    0    0    0    0    0  \n",
       "2                5    0    0    0    0    0  \n",
       "3                7    0    0    0    0    0  \n",
       "4                9    0    0    0    0    0  "
      ]
     },
     "execution_count": 39,
     "metadata": {},
     "output_type": "execute_result"
    }
   ],
   "source": [
    "X.head()"
   ]
  },
  {
   "cell_type": "code",
   "execution_count": 40,
   "id": "2f07e65a",
   "metadata": {},
   "outputs": [],
   "source": [
    "import pickle\n",
    "scalar = StandardScaler()\n",
    "scalar.fit_transform(X)\n",
    "pickle.dump(scalar , open(\"Scalar_Model.pickle\",\"wb\")) "
   ]
  },
  {
   "cell_type": "markdown",
   "id": "a562947a",
   "metadata": {},
   "source": [
    "## Split train and Test"
   ]
  },
  {
   "cell_type": "code",
   "execution_count": 24,
   "id": "0c3ac455",
   "metadata": {},
   "outputs": [],
   "source": [
    "from sklearn.model_selection import train_test_split\n",
    "X_train, X_test, y_train, y_test = train_test_split(x_scale, y, test_size=0.20, random_state=4)"
   ]
  },
  {
   "cell_type": "code",
   "execution_count": 25,
   "id": "36b49284",
   "metadata": {},
   "outputs": [
    {
     "data": {
      "text/plain": [
       "(8000, 2000)"
      ]
     },
     "execution_count": 25,
     "metadata": {},
     "output_type": "execute_result"
    }
   ],
   "source": [
    "len(X_train) , len(X_test)"
   ]
  },
  {
   "cell_type": "code",
   "execution_count": 26,
   "id": "bd232212",
   "metadata": {},
   "outputs": [
    {
     "data": {
      "text/html": [
       "<div>\n",
       "<style scoped>\n",
       "    .dataframe tbody tr th:only-of-type {\n",
       "        vertical-align: middle;\n",
       "    }\n",
       "\n",
       "    .dataframe tbody tr th {\n",
       "        vertical-align: top;\n",
       "    }\n",
       "\n",
       "    .dataframe thead th {\n",
       "        text-align: right;\n",
       "    }\n",
       "</style>\n",
       "<table border=\"1\" class=\"dataframe\">\n",
       "  <thead>\n",
       "    <tr style=\"text-align: right;\">\n",
       "      <th></th>\n",
       "      <th>Process temperature [K]</th>\n",
       "      <th>Rotational speed [rpm]</th>\n",
       "      <th>Torque [Nm]</th>\n",
       "      <th>Tool wear [min]</th>\n",
       "      <th>TWF</th>\n",
       "      <th>HDF</th>\n",
       "      <th>PWF</th>\n",
       "      <th>OSF</th>\n",
       "      <th>RNF</th>\n",
       "    </tr>\n",
       "  </thead>\n",
       "  <tbody>\n",
       "    <tr>\n",
       "      <th>4983</th>\n",
       "      <td>2.085680</td>\n",
       "      <td>1.841995</td>\n",
       "      <td>-1.423183</td>\n",
       "      <td>1.618970</td>\n",
       "      <td>-0.06798</td>\n",
       "      <td>-0.10786</td>\n",
       "      <td>-0.097934</td>\n",
       "      <td>-0.099484</td>\n",
       "      <td>-0.04363</td>\n",
       "    </tr>\n",
       "    <tr>\n",
       "      <th>6789</th>\n",
       "      <td>0.333257</td>\n",
       "      <td>0.598097</td>\n",
       "      <td>-0.931632</td>\n",
       "      <td>-0.501972</td>\n",
       "      <td>-0.06798</td>\n",
       "      <td>-0.10786</td>\n",
       "      <td>-0.097934</td>\n",
       "      <td>-0.099484</td>\n",
       "      <td>-0.04363</td>\n",
       "    </tr>\n",
       "    <tr>\n",
       "      <th>2221</th>\n",
       "      <td>-0.677756</td>\n",
       "      <td>-0.930280</td>\n",
       "      <td>2.047773</td>\n",
       "      <td>0.644908</td>\n",
       "      <td>-0.06798</td>\n",
       "      <td>-0.10786</td>\n",
       "      <td>-0.097934</td>\n",
       "      <td>-0.099484</td>\n",
       "      <td>-0.04363</td>\n",
       "    </tr>\n",
       "    <tr>\n",
       "      <th>6043</th>\n",
       "      <td>0.602860</td>\n",
       "      <td>-0.394790</td>\n",
       "      <td>0.181883</td>\n",
       "      <td>0.063613</td>\n",
       "      <td>-0.06798</td>\n",
       "      <td>-0.10786</td>\n",
       "      <td>-0.097934</td>\n",
       "      <td>-0.099484</td>\n",
       "      <td>-0.04363</td>\n",
       "    </tr>\n",
       "    <tr>\n",
       "      <th>1564</th>\n",
       "      <td>-1.216963</td>\n",
       "      <td>3.074737</td>\n",
       "      <td>-2.105336</td>\n",
       "      <td>0.550644</td>\n",
       "      <td>-0.06798</td>\n",
       "      <td>-0.10786</td>\n",
       "      <td>-0.097934</td>\n",
       "      <td>-0.099484</td>\n",
       "      <td>-0.04363</td>\n",
       "    </tr>\n",
       "  </tbody>\n",
       "</table>\n",
       "</div>"
      ],
      "text/plain": [
       "      Process temperature [K]  Rotational speed [rpm]  Torque [Nm]  \\\n",
       "4983                 2.085680                1.841995    -1.423183   \n",
       "6789                 0.333257                0.598097    -0.931632   \n",
       "2221                -0.677756               -0.930280     2.047773   \n",
       "6043                 0.602860               -0.394790     0.181883   \n",
       "1564                -1.216963                3.074737    -2.105336   \n",
       "\n",
       "      Tool wear [min]      TWF      HDF       PWF       OSF      RNF  \n",
       "4983         1.618970 -0.06798 -0.10786 -0.097934 -0.099484 -0.04363  \n",
       "6789        -0.501972 -0.06798 -0.10786 -0.097934 -0.099484 -0.04363  \n",
       "2221         0.644908 -0.06798 -0.10786 -0.097934 -0.099484 -0.04363  \n",
       "6043         0.063613 -0.06798 -0.10786 -0.097934 -0.099484 -0.04363  \n",
       "1564         0.550644 -0.06798 -0.10786 -0.097934 -0.099484 -0.04363  "
      ]
     },
     "execution_count": 26,
     "metadata": {},
     "output_type": "execute_result"
    }
   ],
   "source": [
    "X_train.head()"
   ]
  },
  {
   "cell_type": "markdown",
   "id": "07c73599",
   "metadata": {},
   "source": [
    "##  Build the Model"
   ]
  },
  {
   "cell_type": "code",
   "execution_count": 27,
   "id": "d4ab67a5",
   "metadata": {},
   "outputs": [],
   "source": [
    "from sklearn.linear_model import LinearRegression"
   ]
  },
  {
   "cell_type": "code",
   "execution_count": 28,
   "id": "c81da5f9",
   "metadata": {},
   "outputs": [],
   "source": [
    "lr = LinearRegression()"
   ]
  },
  {
   "cell_type": "code",
   "execution_count": 29,
   "id": "9ae6841b",
   "metadata": {
    "scrolled": true
   },
   "outputs": [
    {
     "data": {
      "text/plain": [
       "LinearRegression()"
      ]
     },
     "execution_count": 29,
     "metadata": {},
     "output_type": "execute_result"
    }
   ],
   "source": [
    "lr.fit(X_train , y_train)"
   ]
  },
  {
   "cell_type": "markdown",
   "id": "11603e33",
   "metadata": {},
   "source": [
    "### predict our model"
   ]
  },
  {
   "cell_type": "code",
   "execution_count": 30,
   "id": "7b689d11",
   "metadata": {
    "scrolled": true
   },
   "outputs": [
    {
     "data": {
      "text/html": [
       "<div>\n",
       "<style scoped>\n",
       "    .dataframe tbody tr th:only-of-type {\n",
       "        vertical-align: middle;\n",
       "    }\n",
       "\n",
       "    .dataframe tbody tr th {\n",
       "        vertical-align: top;\n",
       "    }\n",
       "\n",
       "    .dataframe thead th {\n",
       "        text-align: right;\n",
       "    }\n",
       "</style>\n",
       "<table border=\"1\" class=\"dataframe\">\n",
       "  <thead>\n",
       "    <tr style=\"text-align: right;\">\n",
       "      <th></th>\n",
       "      <th>Process temperature [K]</th>\n",
       "      <th>Rotational speed [rpm]</th>\n",
       "      <th>Torque [Nm]</th>\n",
       "      <th>Tool wear [min]</th>\n",
       "      <th>TWF</th>\n",
       "      <th>HDF</th>\n",
       "      <th>PWF</th>\n",
       "      <th>OSF</th>\n",
       "      <th>RNF</th>\n",
       "    </tr>\n",
       "  </thead>\n",
       "  <tbody>\n",
       "    <tr>\n",
       "      <th>1603</th>\n",
       "      <td>-1.486567</td>\n",
       "      <td>0.464224</td>\n",
       "      <td>-0.791188</td>\n",
       "      <td>-1.413191</td>\n",
       "      <td>-0.06798</td>\n",
       "      <td>-0.10786</td>\n",
       "      <td>-0.097934</td>\n",
       "      <td>-0.099484</td>\n",
       "      <td>-0.04363</td>\n",
       "    </tr>\n",
       "    <tr>\n",
       "      <th>8713</th>\n",
       "      <td>-0.947360</td>\n",
       "      <td>2.109740</td>\n",
       "      <td>-1.593722</td>\n",
       "      <td>-0.847607</td>\n",
       "      <td>-0.06798</td>\n",
       "      <td>-0.10786</td>\n",
       "      <td>-0.097934</td>\n",
       "      <td>-0.099484</td>\n",
       "      <td>-0.04363</td>\n",
       "    </tr>\n",
       "  </tbody>\n",
       "</table>\n",
       "</div>"
      ],
      "text/plain": [
       "      Process temperature [K]  Rotational speed [rpm]  Torque [Nm]  \\\n",
       "1603                -1.486567                0.464224    -0.791188   \n",
       "8713                -0.947360                2.109740    -1.593722   \n",
       "\n",
       "      Tool wear [min]      TWF      HDF       PWF       OSF      RNF  \n",
       "1603        -1.413191 -0.06798 -0.10786 -0.097934 -0.099484 -0.04363  \n",
       "8713        -0.847607 -0.06798 -0.10786 -0.097934 -0.099484 -0.04363  "
      ]
     },
     "execution_count": 30,
     "metadata": {},
     "output_type": "execute_result"
    }
   ],
   "source": [
    "X_test.head(2)"
   ]
  },
  {
   "cell_type": "code",
   "execution_count": 41,
   "id": "4ffa7770",
   "metadata": {
    "scrolled": true
   },
   "outputs": [
    {
     "data": {
      "text/plain": [
       "array([[ 1.20946845, -0.65695726,  0.48283305, -0.10920494, -0.06797983,\n",
       "        -0.10786004, -0.09793424, -0.09948362, -0.04363046]])"
      ]
     },
     "execution_count": 41,
     "metadata": {},
     "output_type": "execute_result"
    }
   ],
   "source": [
    "scale = pickle.load(open('Scalar_Model.pickle' , 'rb'))\n",
    "scale.transform([[311.8 , 1421 , 44.8 ,101 , 0 , 0 , 0 , 0 ,0]])"
   ]
  },
  {
   "cell_type": "code",
   "execution_count": 42,
   "id": "41ad9be1",
   "metadata": {},
   "outputs": [
    {
     "data": {
      "text/plain": [
       "array([302.07600581])"
      ]
     },
     "execution_count": 42,
     "metadata": {},
     "output_type": "execute_result"
    }
   ],
   "source": [
    "lr.predict([[ 1.20946845, -0.65695726,  0.48283305, -0.10920494, -0.06797983,\n",
    "        -0.10786004, -0.09793424, -0.09948362, -0.04363046]])"
   ]
  },
  {
   "cell_type": "code",
   "execution_count": 43,
   "id": "fae35fb9",
   "metadata": {
    "scrolled": true
   },
   "outputs": [
    {
     "data": {
      "text/plain": [
       "4684    303.6\n",
       "Name: Air temperature [K], dtype: float64"
      ]
     },
     "execution_count": 43,
     "metadata": {},
     "output_type": "execute_result"
    }
   ],
   "source": [
    "y_test[1:2]"
   ]
  },
  {
   "cell_type": "markdown",
   "id": "3fb412c2",
   "metadata": {},
   "source": [
    "**Now we see the actual value is 303 and it predict 302 so it is almost close** "
   ]
  },
  {
   "cell_type": "code",
   "execution_count": 44,
   "id": "825f1c35",
   "metadata": {},
   "outputs": [
    {
     "data": {
      "text/plain": [
       "0.765955306242505"
      ]
     },
     "execution_count": 44,
     "metadata": {},
     "output_type": "execute_result"
    }
   ],
   "source": [
    "lr.score(X_test , y_test)"
   ]
  },
  {
   "cell_type": "code",
   "execution_count": 45,
   "id": "75ada254",
   "metadata": {},
   "outputs": [],
   "source": [
    "def adj_r2(x,y):\n",
    "    r2 = lr.score(x,y)\n",
    "    n = x.shape[0]\n",
    "    p = x.shape[1]\n",
    "    adjusted_r2 = 1-(1-r2)*(n-1)/(n-p-1)\n",
    "    return adjusted_r2"
   ]
  },
  {
   "cell_type": "code",
   "execution_count": 46,
   "id": "78c24b94",
   "metadata": {},
   "outputs": [
    {
     "data": {
      "text/plain": [
       "0.764896812652647"
      ]
     },
     "execution_count": 46,
     "metadata": {},
     "output_type": "execute_result"
    }
   ],
   "source": [
    "adj_r2(X_test , y_test)"
   ]
  },
  {
   "cell_type": "code",
   "execution_count": 70,
   "id": "9064733a",
   "metadata": {},
   "outputs": [
    {
     "data": {
      "text/plain": [
       "0.765955306242505"
      ]
     },
     "execution_count": 70,
     "metadata": {},
     "output_type": "execute_result"
    }
   ],
   "source": [
    "linear_score =lr.score(X_test , y_test)\n",
    "linear_score"
   ]
  },
  {
   "cell_type": "code",
   "execution_count": 47,
   "id": "a032f4b5",
   "metadata": {},
   "outputs": [
    {
     "data": {
      "text/plain": [
       "0.7779759987160282"
      ]
     },
     "execution_count": 47,
     "metadata": {},
     "output_type": "execute_result"
    }
   ],
   "source": [
    "## train data\n",
    "lr.score(X_train , y_train)"
   ]
  },
  {
   "cell_type": "markdown",
   "id": "8a5c26f5",
   "metadata": {},
   "source": [
    "## Now we use Regularization"
   ]
  },
  {
   "cell_type": "markdown",
   "id": "7b154f4d",
   "metadata": {},
   "source": [
    "### Lasso"
   ]
  },
  {
   "cell_type": "code",
   "execution_count": 49,
   "id": "9a900f48",
   "metadata": {},
   "outputs": [],
   "source": [
    "from sklearn.linear_model import Lasso , LassoCV , Ridge , RidgeCV , ElasticNet , ElasticNetCV"
   ]
  },
  {
   "cell_type": "code",
   "execution_count": 50,
   "id": "8b956684",
   "metadata": {},
   "outputs": [
    {
     "data": {
      "text/plain": [
       "LassoCV(cv=200, max_iter=20000000, normalize=True)"
      ]
     },
     "execution_count": 50,
     "metadata": {},
     "output_type": "execute_result"
    }
   ],
   "source": [
    "lassocv = LassoCV(alphas=None , cv=200 , max_iter=20000000 , normalize=True )\n",
    "lassocv"
   ]
  },
  {
   "cell_type": "code",
   "execution_count": 51,
   "id": "29f879af",
   "metadata": {},
   "outputs": [
    {
     "data": {
      "text/plain": [
       "LassoCV(cv=200, max_iter=20000000, normalize=True)"
      ]
     },
     "execution_count": 51,
     "metadata": {},
     "output_type": "execute_result"
    }
   ],
   "source": [
    "lassocv.fit(X_train , y_train)"
   ]
  },
  {
   "cell_type": "code",
   "execution_count": 52,
   "id": "741ec38c",
   "metadata": {},
   "outputs": [
    {
     "data": {
      "text/plain": [
       "3.956370970237258e-05"
      ]
     },
     "execution_count": 52,
     "metadata": {},
     "output_type": "execute_result"
    }
   ],
   "source": [
    "lassocv.alpha_     ##alpha value"
   ]
  },
  {
   "cell_type": "code",
   "execution_count": 53,
   "id": "b8fa82c2",
   "metadata": {},
   "outputs": [
    {
     "data": {
      "text/plain": [
       "Lasso(alpha=3.956370970237258e-05)"
      ]
     },
     "execution_count": 53,
     "metadata": {},
     "output_type": "execute_result"
    }
   ],
   "source": [
    "lasso = Lasso(alpha=lassocv.alpha_)\n",
    "lasso.fit(X_train , y_train)"
   ]
  },
  {
   "cell_type": "code",
   "execution_count": 54,
   "id": "2d72c75d",
   "metadata": {},
   "outputs": [
    {
     "data": {
      "text/plain": [
       "0.7659562090479132"
      ]
     },
     "execution_count": 54,
     "metadata": {},
     "output_type": "execute_result"
    }
   ],
   "source": [
    "lasso.score(X_test , y_test) "
   ]
  },
  {
   "cell_type": "code",
   "execution_count": 55,
   "id": "14c025ed",
   "metadata": {},
   "outputs": [
    {
     "data": {
      "text/plain": [
       "0.7659562090479132"
      ]
     },
     "execution_count": 55,
     "metadata": {},
     "output_type": "execute_result"
    }
   ],
   "source": [
    "lassoscore = lasso.score(X_test , y_test)\n",
    "lassoscore"
   ]
  },
  {
   "cell_type": "markdown",
   "id": "449d2676",
   "metadata": {},
   "source": [
    "### Ridge"
   ]
  },
  {
   "cell_type": "code",
   "execution_count": 56,
   "id": "2b66054d",
   "metadata": {},
   "outputs": [],
   "source": [
    "alpha = np.random.uniform(0 , 10 ,100)"
   ]
  },
  {
   "cell_type": "code",
   "execution_count": 57,
   "id": "9677ccf5",
   "metadata": {},
   "outputs": [
    {
     "data": {
      "text/plain": [
       "RidgeCV(alphas=array([3.96975782, 7.73694626, 3.87994483, 4.09988663, 6.99365915,\n",
       "       7.06928752, 0.93099634, 9.37614526, 4.62269359, 8.72005055,\n",
       "       0.26048834, 9.41783559, 7.3425876 , 7.62732402, 8.59241833,\n",
       "       7.11686434, 1.52243385, 0.10766731, 2.76767686, 7.06841336,\n",
       "       4.19281564, 1.00773206, 4.72058177, 6.67375557, 9.1808161 ,\n",
       "       7.92178586, 7.2445446 , 7.43455073, 2.87866023, 6.56758657,\n",
       "       1...\n",
       "       6.8878662 , 6.06698443, 2.46433792, 5.51868161, 3.26213434,\n",
       "       4.7551147 , 0.26841009, 6.02500936, 5.94140543, 8.00269131,\n",
       "       9.71895135, 2.27579273, 8.15370331, 5.25366098, 9.06347043,\n",
       "       5.17954545, 0.94625478, 3.93308432, 6.39746268, 2.39288026,\n",
       "       0.78628443, 9.83165242, 5.58260323, 3.48929203, 6.15410166,\n",
       "       9.92707289, 0.74425983, 9.2992305 , 1.03508364, 6.19027732]),\n",
       "        cv=10, normalize=True)"
      ]
     },
     "execution_count": 57,
     "metadata": {},
     "output_type": "execute_result"
    }
   ],
   "source": [
    "ridgecv = RidgeCV( alphas=alpha , cv = 10 , normalize=True) \n",
    "ridgecv"
   ]
  },
  {
   "cell_type": "code",
   "execution_count": 58,
   "id": "a9df6882",
   "metadata": {},
   "outputs": [
    {
     "data": {
      "text/plain": [
       "0.10766731212384029"
      ]
     },
     "execution_count": 58,
     "metadata": {},
     "output_type": "execute_result"
    }
   ],
   "source": [
    "ridgecv.fit(X_train , y_train)\n",
    "ridgecv.alpha_"
   ]
  },
  {
   "cell_type": "code",
   "execution_count": 59,
   "id": "7f1b795d",
   "metadata": {},
   "outputs": [
    {
     "data": {
      "text/plain": [
       "Ridge(alpha=0.10766731212384029)"
      ]
     },
     "execution_count": 59,
     "metadata": {},
     "output_type": "execute_result"
    }
   ],
   "source": [
    "ridge = Ridge(alpha=ridgecv.alpha_)\n",
    "ridge.fit(X_train , y_train)"
   ]
  },
  {
   "cell_type": "code",
   "execution_count": 60,
   "id": "c9020917",
   "metadata": {},
   "outputs": [
    {
     "data": {
      "text/plain": [
       "0.7659554799536415"
      ]
     },
     "execution_count": 60,
     "metadata": {},
     "output_type": "execute_result"
    }
   ],
   "source": [
    "ridge_score = ridge.score(X_test , y_test)\n",
    "ridge_score"
   ]
  },
  {
   "cell_type": "code",
   "execution_count": 61,
   "id": "e21c34bb",
   "metadata": {},
   "outputs": [
    {
     "data": {
      "text/plain": [
       "0.7779759985795137"
      ]
     },
     "execution_count": 61,
     "metadata": {},
     "output_type": "execute_result"
    }
   ],
   "source": [
    "## train data\n",
    "ridge.score(X_train , y_train)"
   ]
  },
  {
   "cell_type": "markdown",
   "id": "38472bdf",
   "metadata": {},
   "source": [
    "## ElasticNet"
   ]
  },
  {
   "cell_type": "code",
   "execution_count": 62,
   "id": "2e4c5296",
   "metadata": {},
   "outputs": [
    {
     "data": {
      "text/plain": [
       "ElasticNetCV(cv=10, normalize=True)"
      ]
     },
     "execution_count": 62,
     "metadata": {},
     "output_type": "execute_result"
    }
   ],
   "source": [
    "elastic = ElasticNetCV(alphas=None , cv = 10 , normalize=True)\n",
    "elastic"
   ]
  },
  {
   "cell_type": "code",
   "execution_count": 63,
   "id": "6e3624e3",
   "metadata": {},
   "outputs": [
    {
     "data": {
      "text/plain": [
       "ElasticNetCV(cv=10, normalize=True)"
      ]
     },
     "execution_count": 63,
     "metadata": {},
     "output_type": "execute_result"
    }
   ],
   "source": [
    "elastic.fit(X_train , y_train)"
   ]
  },
  {
   "cell_type": "code",
   "execution_count": 64,
   "id": "5396d26e",
   "metadata": {},
   "outputs": [
    {
     "data": {
      "text/plain": [
       "(3.938190309622069e-05, 0.5)"
      ]
     },
     "execution_count": 64,
     "metadata": {},
     "output_type": "execute_result"
    }
   ],
   "source": [
    "elastic.alpha_ , elastic.l1_ratio"
   ]
  },
  {
   "cell_type": "code",
   "execution_count": 65,
   "id": "cd30fbda",
   "metadata": {},
   "outputs": [
    {
     "data": {
      "text/plain": [
       "ElasticNet(alpha=3.938190309622069e-05)"
      ]
     },
     "execution_count": 65,
     "metadata": {},
     "output_type": "execute_result"
    }
   ],
   "source": [
    "elas = ElasticNet(alpha=elastic.alpha_ , l1_ratio=elastic.l1_ratio)\n",
    "elas"
   ]
  },
  {
   "cell_type": "code",
   "execution_count": 66,
   "id": "a1b64016",
   "metadata": {},
   "outputs": [
    {
     "data": {
      "text/plain": [
       "ElasticNet(alpha=3.938190309622069e-05)"
      ]
     },
     "execution_count": 66,
     "metadata": {},
     "output_type": "execute_result"
    }
   ],
   "source": [
    "elas.fit(X_train , y_train)"
   ]
  },
  {
   "cell_type": "code",
   "execution_count": 67,
   "id": "80ac8032",
   "metadata": {},
   "outputs": [
    {
     "data": {
      "text/plain": [
       "0.7659559986803643"
      ]
     },
     "execution_count": 67,
     "metadata": {},
     "output_type": "execute_result"
    }
   ],
   "source": [
    "elastic_score = elas.score(X_test , y_test)\n",
    "elastic_score"
   ]
  },
  {
   "cell_type": "code",
   "execution_count": 68,
   "id": "71f7c944",
   "metadata": {},
   "outputs": [
    {
     "data": {
      "text/plain": [
       "0.7779759972198134"
      ]
     },
     "execution_count": 68,
     "metadata": {},
     "output_type": "execute_result"
    }
   ],
   "source": [
    "## train Data\n",
    "elas.score(X_train , y_train)"
   ]
  },
  {
   "cell_type": "markdown",
   "id": "113363a5",
   "metadata": {},
   "source": [
    "**Now our Model is Stable Becozz It Gives Both training and testing data same value with all Regularization**"
   ]
  },
  {
   "cell_type": "code",
   "execution_count": 71,
   "id": "1b6baa7c",
   "metadata": {},
   "outputs": [
    {
     "data": {
      "text/plain": [
       "{'LinearRegression': 0.765955306242505,\n",
       " 'Lassoregression': 0.7659562090479132,\n",
       " 'Ridgeregression': 0.7659554799536415,\n",
       " 'ElasticRegression': 0.7659559986803643}"
      ]
     },
     "execution_count": 71,
     "metadata": {},
     "output_type": "execute_result"
    }
   ],
   "source": [
    "scores = {\n",
    "    \"LinearRegression\" : linear_score , \n",
    "    \"Lassoregression\" : lassoscore ,\n",
    "    \"Ridgeregression\" : ridge_score ,\n",
    "    \"ElasticRegression\" : elastic_score\n",
    "}\n",
    "scores"
   ]
  },
  {
   "cell_type": "code",
   "execution_count": 72,
   "id": "bba1b1eb",
   "metadata": {},
   "outputs": [
    {
     "name": "stdout",
     "output_type": "stream",
     "text": [
      "(0.7659562090479132, 'Lassoregression')\n"
     ]
    }
   ],
   "source": [
    "Keymax = max(zip(scores.values() , scores.keys()))\n",
    "print(Keymax)"
   ]
  },
  {
   "cell_type": "markdown",
   "id": "53e67e19",
   "metadata": {},
   "source": [
    "## so we save our Lasso Model"
   ]
  },
  {
   "cell_type": "code",
   "execution_count": 73,
   "id": "e48d5c37",
   "metadata": {},
   "outputs": [],
   "source": [
    "pickle.dump( lasso , open(\"LassoModel.pickle\" , \"wb\"))"
   ]
  },
  {
   "cell_type": "code",
   "execution_count": null,
   "id": "108d635d",
   "metadata": {},
   "outputs": [],
   "source": []
  }
 ],
 "metadata": {
  "kernelspec": {
   "display_name": "Python 3 (ipykernel)",
   "language": "python",
   "name": "python3"
  },
  "language_info": {
   "codemirror_mode": {
    "name": "ipython",
    "version": 3
   },
   "file_extension": ".py",
   "mimetype": "text/x-python",
   "name": "python",
   "nbconvert_exporter": "python",
   "pygments_lexer": "ipython3",
   "version": "3.9.6"
  }
 },
 "nbformat": 4,
 "nbformat_minor": 5
}
